{
 "cells": [
  {
   "cell_type": "code",
   "execution_count": 1,
   "metadata": {},
   "outputs": [],
   "source": [
    "import pandas as pd\n",
    "from os import path\n",
    "from IPython.display import display"
   ]
  },
  {
   "cell_type": "code",
   "execution_count": 2,
   "metadata": {},
   "outputs": [
    {
     "ename": "FileNotFoundError",
     "evalue": "[Errno 2] No such file or directory: 'Arquivos\\\\importacao-gas-natural-2000-2022.csv'",
     "output_type": "error",
     "traceback": [
      "\u001b[0;31m---------------------------------------------------------------------------\u001b[0m",
      "\u001b[0;31mFileNotFoundError\u001b[0m                         Traceback (most recent call last)",
      "\u001b[1;32m/home/fernandovgs/dev/studies/pad/ProjetoAnaliticoDeDados/testing.ipynb Cell 2\u001b[0m in \u001b[0;36m<cell line: 5>\u001b[0;34m()\u001b[0m\n\u001b[1;32m      <a href='vscode-notebook-cell:/home/fernandovgs/dev/studies/pad/ProjetoAnaliticoDeDados/testing.ipynb#ch0000001?line=2'>3</a>\u001b[0m file3 \u001b[39m=\u001b[39m \u001b[39m'\u001b[39m\u001b[39mArquivos\u001b[39m\u001b[39m\\\u001b[39m\u001b[39mimportacoes-exportacoes-etanol-2012-2022.csv\u001b[39m\u001b[39m'\u001b[39m\n\u001b[1;32m      <a href='vscode-notebook-cell:/home/fernandovgs/dev/studies/pad/ProjetoAnaliticoDeDados/testing.ipynb#ch0000001?line=3'>4</a>\u001b[0m file4 \u001b[39m=\u001b[39m \u001b[39m'\u001b[39m\u001b[39mArquivos\u001b[39m\u001b[39m\\\u001b[39m\u001b[39mpreços-combustiveis-2004-2021.tsv\u001b[39m\u001b[39m'\u001b[39m\n\u001b[0;32m----> <a href='vscode-notebook-cell:/home/fernandovgs/dev/studies/pad/ProjetoAnaliticoDeDados/testing.ipynb#ch0000001?line=4'>5</a>\u001b[0m df1 \u001b[39m=\u001b[39m pd\u001b[39m.\u001b[39;49mread_csv(file1, sep\u001b[39m=\u001b[39;49m\u001b[39m'\u001b[39;49m\u001b[39m;\u001b[39;49m\u001b[39m'\u001b[39;49m)\n\u001b[1;32m      <a href='vscode-notebook-cell:/home/fernandovgs/dev/studies/pad/ProjetoAnaliticoDeDados/testing.ipynb#ch0000001?line=5'>6</a>\u001b[0m df2 \u001b[39m=\u001b[39m pd\u001b[39m.\u001b[39mread_csv(file2, sep\u001b[39m=\u001b[39m\u001b[39m'\u001b[39m\u001b[39m;\u001b[39m\u001b[39m'\u001b[39m)\n\u001b[1;32m      <a href='vscode-notebook-cell:/home/fernandovgs/dev/studies/pad/ProjetoAnaliticoDeDados/testing.ipynb#ch0000001?line=6'>7</a>\u001b[0m df3 \u001b[39m=\u001b[39m pd\u001b[39m.\u001b[39mread_csv(file3, sep\u001b[39m=\u001b[39m\u001b[39m'\u001b[39m\u001b[39m;\u001b[39m\u001b[39m'\u001b[39m)\n",
      "File \u001b[0;32m~/.local/lib/python3.10/site-packages/pandas/util/_decorators.py:311\u001b[0m, in \u001b[0;36mdeprecate_nonkeyword_arguments.<locals>.decorate.<locals>.wrapper\u001b[0;34m(*args, **kwargs)\u001b[0m\n\u001b[1;32m    305\u001b[0m \u001b[39mif\u001b[39;00m \u001b[39mlen\u001b[39m(args) \u001b[39m>\u001b[39m num_allow_args:\n\u001b[1;32m    306\u001b[0m     warnings\u001b[39m.\u001b[39mwarn(\n\u001b[1;32m    307\u001b[0m         msg\u001b[39m.\u001b[39mformat(arguments\u001b[39m=\u001b[39marguments),\n\u001b[1;32m    308\u001b[0m         \u001b[39mFutureWarning\u001b[39;00m,\n\u001b[1;32m    309\u001b[0m         stacklevel\u001b[39m=\u001b[39mstacklevel,\n\u001b[1;32m    310\u001b[0m     )\n\u001b[0;32m--> 311\u001b[0m \u001b[39mreturn\u001b[39;00m func(\u001b[39m*\u001b[39;49margs, \u001b[39m*\u001b[39;49m\u001b[39m*\u001b[39;49mkwargs)\n",
      "File \u001b[0;32m~/.local/lib/python3.10/site-packages/pandas/io/parsers/readers.py:680\u001b[0m, in \u001b[0;36mread_csv\u001b[0;34m(filepath_or_buffer, sep, delimiter, header, names, index_col, usecols, squeeze, prefix, mangle_dupe_cols, dtype, engine, converters, true_values, false_values, skipinitialspace, skiprows, skipfooter, nrows, na_values, keep_default_na, na_filter, verbose, skip_blank_lines, parse_dates, infer_datetime_format, keep_date_col, date_parser, dayfirst, cache_dates, iterator, chunksize, compression, thousands, decimal, lineterminator, quotechar, quoting, doublequote, escapechar, comment, encoding, encoding_errors, dialect, error_bad_lines, warn_bad_lines, on_bad_lines, delim_whitespace, low_memory, memory_map, float_precision, storage_options)\u001b[0m\n\u001b[1;32m    665\u001b[0m kwds_defaults \u001b[39m=\u001b[39m _refine_defaults_read(\n\u001b[1;32m    666\u001b[0m     dialect,\n\u001b[1;32m    667\u001b[0m     delimiter,\n\u001b[0;32m   (...)\u001b[0m\n\u001b[1;32m    676\u001b[0m     defaults\u001b[39m=\u001b[39m{\u001b[39m\"\u001b[39m\u001b[39mdelimiter\u001b[39m\u001b[39m\"\u001b[39m: \u001b[39m\"\u001b[39m\u001b[39m,\u001b[39m\u001b[39m\"\u001b[39m},\n\u001b[1;32m    677\u001b[0m )\n\u001b[1;32m    678\u001b[0m kwds\u001b[39m.\u001b[39mupdate(kwds_defaults)\n\u001b[0;32m--> 680\u001b[0m \u001b[39mreturn\u001b[39;00m _read(filepath_or_buffer, kwds)\n",
      "File \u001b[0;32m~/.local/lib/python3.10/site-packages/pandas/io/parsers/readers.py:575\u001b[0m, in \u001b[0;36m_read\u001b[0;34m(filepath_or_buffer, kwds)\u001b[0m\n\u001b[1;32m    572\u001b[0m _validate_names(kwds\u001b[39m.\u001b[39mget(\u001b[39m\"\u001b[39m\u001b[39mnames\u001b[39m\u001b[39m\"\u001b[39m, \u001b[39mNone\u001b[39;00m))\n\u001b[1;32m    574\u001b[0m \u001b[39m# Create the parser.\u001b[39;00m\n\u001b[0;32m--> 575\u001b[0m parser \u001b[39m=\u001b[39m TextFileReader(filepath_or_buffer, \u001b[39m*\u001b[39;49m\u001b[39m*\u001b[39;49mkwds)\n\u001b[1;32m    577\u001b[0m \u001b[39mif\u001b[39;00m chunksize \u001b[39mor\u001b[39;00m iterator:\n\u001b[1;32m    578\u001b[0m     \u001b[39mreturn\u001b[39;00m parser\n",
      "File \u001b[0;32m~/.local/lib/python3.10/site-packages/pandas/io/parsers/readers.py:934\u001b[0m, in \u001b[0;36mTextFileReader.__init__\u001b[0;34m(self, f, engine, **kwds)\u001b[0m\n\u001b[1;32m    931\u001b[0m     \u001b[39mself\u001b[39m\u001b[39m.\u001b[39moptions[\u001b[39m\"\u001b[39m\u001b[39mhas_index_names\u001b[39m\u001b[39m\"\u001b[39m] \u001b[39m=\u001b[39m kwds[\u001b[39m\"\u001b[39m\u001b[39mhas_index_names\u001b[39m\u001b[39m\"\u001b[39m]\n\u001b[1;32m    933\u001b[0m \u001b[39mself\u001b[39m\u001b[39m.\u001b[39mhandles: IOHandles \u001b[39m|\u001b[39m \u001b[39mNone\u001b[39;00m \u001b[39m=\u001b[39m \u001b[39mNone\u001b[39;00m\n\u001b[0;32m--> 934\u001b[0m \u001b[39mself\u001b[39m\u001b[39m.\u001b[39m_engine \u001b[39m=\u001b[39m \u001b[39mself\u001b[39;49m\u001b[39m.\u001b[39;49m_make_engine(f, \u001b[39mself\u001b[39;49m\u001b[39m.\u001b[39;49mengine)\n",
      "File \u001b[0;32m~/.local/lib/python3.10/site-packages/pandas/io/parsers/readers.py:1218\u001b[0m, in \u001b[0;36mTextFileReader._make_engine\u001b[0;34m(self, f, engine)\u001b[0m\n\u001b[1;32m   1214\u001b[0m     mode \u001b[39m=\u001b[39m \u001b[39m\"\u001b[39m\u001b[39mrb\u001b[39m\u001b[39m\"\u001b[39m\n\u001b[1;32m   1215\u001b[0m \u001b[39m# error: No overload variant of \"get_handle\" matches argument types\u001b[39;00m\n\u001b[1;32m   1216\u001b[0m \u001b[39m# \"Union[str, PathLike[str], ReadCsvBuffer[bytes], ReadCsvBuffer[str]]\"\u001b[39;00m\n\u001b[1;32m   1217\u001b[0m \u001b[39m# , \"str\", \"bool\", \"Any\", \"Any\", \"Any\", \"Any\", \"Any\"\u001b[39;00m\n\u001b[0;32m-> 1218\u001b[0m \u001b[39mself\u001b[39m\u001b[39m.\u001b[39mhandles \u001b[39m=\u001b[39m get_handle(  \u001b[39m# type: ignore[call-overload]\u001b[39;49;00m\n\u001b[1;32m   1219\u001b[0m     f,\n\u001b[1;32m   1220\u001b[0m     mode,\n\u001b[1;32m   1221\u001b[0m     encoding\u001b[39m=\u001b[39;49m\u001b[39mself\u001b[39;49m\u001b[39m.\u001b[39;49moptions\u001b[39m.\u001b[39;49mget(\u001b[39m\"\u001b[39;49m\u001b[39mencoding\u001b[39;49m\u001b[39m\"\u001b[39;49m, \u001b[39mNone\u001b[39;49;00m),\n\u001b[1;32m   1222\u001b[0m     compression\u001b[39m=\u001b[39;49m\u001b[39mself\u001b[39;49m\u001b[39m.\u001b[39;49moptions\u001b[39m.\u001b[39;49mget(\u001b[39m\"\u001b[39;49m\u001b[39mcompression\u001b[39;49m\u001b[39m\"\u001b[39;49m, \u001b[39mNone\u001b[39;49;00m),\n\u001b[1;32m   1223\u001b[0m     memory_map\u001b[39m=\u001b[39;49m\u001b[39mself\u001b[39;49m\u001b[39m.\u001b[39;49moptions\u001b[39m.\u001b[39;49mget(\u001b[39m\"\u001b[39;49m\u001b[39mmemory_map\u001b[39;49m\u001b[39m\"\u001b[39;49m, \u001b[39mFalse\u001b[39;49;00m),\n\u001b[1;32m   1224\u001b[0m     is_text\u001b[39m=\u001b[39;49mis_text,\n\u001b[1;32m   1225\u001b[0m     errors\u001b[39m=\u001b[39;49m\u001b[39mself\u001b[39;49m\u001b[39m.\u001b[39;49moptions\u001b[39m.\u001b[39;49mget(\u001b[39m\"\u001b[39;49m\u001b[39mencoding_errors\u001b[39;49m\u001b[39m\"\u001b[39;49m, \u001b[39m\"\u001b[39;49m\u001b[39mstrict\u001b[39;49m\u001b[39m\"\u001b[39;49m),\n\u001b[1;32m   1226\u001b[0m     storage_options\u001b[39m=\u001b[39;49m\u001b[39mself\u001b[39;49m\u001b[39m.\u001b[39;49moptions\u001b[39m.\u001b[39;49mget(\u001b[39m\"\u001b[39;49m\u001b[39mstorage_options\u001b[39;49m\u001b[39m\"\u001b[39;49m, \u001b[39mNone\u001b[39;49;00m),\n\u001b[1;32m   1227\u001b[0m )\n\u001b[1;32m   1228\u001b[0m \u001b[39massert\u001b[39;00m \u001b[39mself\u001b[39m\u001b[39m.\u001b[39mhandles \u001b[39mis\u001b[39;00m \u001b[39mnot\u001b[39;00m \u001b[39mNone\u001b[39;00m\n\u001b[1;32m   1229\u001b[0m f \u001b[39m=\u001b[39m \u001b[39mself\u001b[39m\u001b[39m.\u001b[39mhandles\u001b[39m.\u001b[39mhandle\n",
      "File \u001b[0;32m~/.local/lib/python3.10/site-packages/pandas/io/common.py:786\u001b[0m, in \u001b[0;36mget_handle\u001b[0;34m(path_or_buf, mode, encoding, compression, memory_map, is_text, errors, storage_options)\u001b[0m\n\u001b[1;32m    781\u001b[0m \u001b[39melif\u001b[39;00m \u001b[39misinstance\u001b[39m(handle, \u001b[39mstr\u001b[39m):\n\u001b[1;32m    782\u001b[0m     \u001b[39m# Check whether the filename is to be opened in binary mode.\u001b[39;00m\n\u001b[1;32m    783\u001b[0m     \u001b[39m# Binary mode does not support 'encoding' and 'newline'.\u001b[39;00m\n\u001b[1;32m    784\u001b[0m     \u001b[39mif\u001b[39;00m ioargs\u001b[39m.\u001b[39mencoding \u001b[39mand\u001b[39;00m \u001b[39m\"\u001b[39m\u001b[39mb\u001b[39m\u001b[39m\"\u001b[39m \u001b[39mnot\u001b[39;00m \u001b[39min\u001b[39;00m ioargs\u001b[39m.\u001b[39mmode:\n\u001b[1;32m    785\u001b[0m         \u001b[39m# Encoding\u001b[39;00m\n\u001b[0;32m--> 786\u001b[0m         handle \u001b[39m=\u001b[39m \u001b[39mopen\u001b[39;49m(\n\u001b[1;32m    787\u001b[0m             handle,\n\u001b[1;32m    788\u001b[0m             ioargs\u001b[39m.\u001b[39;49mmode,\n\u001b[1;32m    789\u001b[0m             encoding\u001b[39m=\u001b[39;49mioargs\u001b[39m.\u001b[39;49mencoding,\n\u001b[1;32m    790\u001b[0m             errors\u001b[39m=\u001b[39;49merrors,\n\u001b[1;32m    791\u001b[0m             newline\u001b[39m=\u001b[39;49m\u001b[39m\"\u001b[39;49m\u001b[39m\"\u001b[39;49m,\n\u001b[1;32m    792\u001b[0m         )\n\u001b[1;32m    793\u001b[0m     \u001b[39melse\u001b[39;00m:\n\u001b[1;32m    794\u001b[0m         \u001b[39m# Binary mode\u001b[39;00m\n\u001b[1;32m    795\u001b[0m         handle \u001b[39m=\u001b[39m \u001b[39mopen\u001b[39m(handle, ioargs\u001b[39m.\u001b[39mmode)\n",
      "\u001b[0;31mFileNotFoundError\u001b[0m: [Errno 2] No such file or directory: 'Arquivos\\\\importacao-gas-natural-2000-2022.csv'"
     ]
    }
   ],
   "source": [
    "file1 = path.join('Arquivos', 'importacao-gas-natural-2000-2022.csv')\n",
    "file2 = path.join('Arquivos', 'importacoes-exportacoes-derivados-2000-2022.csv')\n",
    "file3 = path.join('Arquivos', 'importacoes-exportacoes-etanol-2012-2022.csv')\n",
    "file4 = path.join('Arquivos', 'preços-combustiveis-2004-2021.tsv')\n",
    "df1 = pd.read_csv(file1, sep=';')\n",
    "df2 = pd.read_csv(file2, sep=';')\n",
    "df3 = pd.read_csv(file3, sep=';')\n",
    "df4 = pd.read_csv(file4, sep='\\t')\n",
    "display(df1.head(3))\n",
    "display(df2.head(3))\n",
    "display(df3.head(3))\n",
    "display(df4.head(3))"
   ]
  },
  {
   "cell_type": "code",
   "execution_count": null,
   "metadata": {},
   "outputs": [
    {
     "data": {
      "text/plain": [
       "array(['IMPORTAÇÃO'], dtype=object)"
      ]
     },
     "metadata": {},
     "output_type": "display_data"
    },
    {
     "data": {
      "text/plain": [
       "array(['IMPORTAÇÃO'], dtype=object)"
      ]
     },
     "metadata": {},
     "output_type": "display_data"
    },
    {
     "data": {
      "text/plain": [
       "array(['IMPORTAÇÃO'], dtype=object)"
      ]
     },
     "metadata": {},
     "output_type": "display_data"
    }
   ],
   "source": [
    "df1.drop(df1[df1['OPERAÇÃO COMERCIAL'] == 'EXPORTAÇÃO'].index, inplace=True)\n",
    "df2.drop(df2[df2['OPERAÇÃO COMERCIAL'] == 'EXPORTAÇÃO'].index, inplace=True)\n",
    "df3.drop(df3[df3['OPERAÇÃO COMERCIAL'] == 'EXPORTAÇÃO'].index, inplace=True)\n",
    "display(df1['OPERAÇÃO COMERCIAL'].unique())\n",
    "display(df2['OPERAÇÃO COMERCIAL'].unique())\n",
    "display(df3['OPERAÇÃO COMERCIAL'].unique())\n",
    "df1.drop('OPERAÇÃO COMERCIAL', axis=1, inplace=True)\n",
    "df2.drop('OPERAÇÃO COMERCIAL', axis=1, inplace=True)\n",
    "df3.drop('OPERAÇÃO COMERCIAL', axis=1, inplace=True)"
   ]
  },
  {
   "cell_type": "code",
   "execution_count": null,
   "metadata": {},
   "outputs": [
    {
     "data": {
      "text/plain": [
       "array(['GNV'], dtype=object)"
      ]
     },
     "metadata": {},
     "output_type": "display_data"
    },
    {
     "data": {
      "text/plain": [
       "array(['GASOLINA A', 'GLP', 'ÓLEO DIESEL'], dtype=object)"
      ]
     },
     "metadata": {},
     "output_type": "display_data"
    },
    {
     "data": {
      "text/plain": [
       "array(['ETANOL HIDRATADO'], dtype=object)"
      ]
     },
     "metadata": {},
     "output_type": "display_data"
    },
    {
     "data": {
      "text/plain": [
       "array(['ETANOL HIDRATADO', 'GASOLINA COMUM', 'GLP', 'GNV', 'ÓLEO DIESEL',\n",
       "       'ÓLEO DIESEL S10', 'GASOLINA ADITIVADA'], dtype=object)"
      ]
     },
     "metadata": {},
     "output_type": "display_data"
    }
   ],
   "source": [
    "df1.replace({'GÁS NATURAL': 'GNV'}, inplace=True)\n",
    "df1['IMPORTADO'] *= 1000\n",
    "df2.drop(df2[~df2['PRODUTO'].isin(['GASOLINA A', 'GLP', 'ÓLEO DIESEL'])].index, inplace=True)\n",
    "df3.drop(df3[df3['PRODUTO'] != 'ETANOL HIDRATADO'].index, inplace=True)\n",
    "df4.replace(regex={'OLEO': 'ÓLEO'}, inplace=True)\n",
    "display(df1['PRODUTO'].unique())\n",
    "display(df2['PRODUTO'].unique())\n",
    "display(df3['PRODUTO'].unique())\n",
    "display(df4['PRODUTO'].unique())"
   ]
  },
  {
   "cell_type": "code",
   "execution_count": null,
   "metadata": {},
   "outputs": [
    {
     "data": {
      "text/plain": [
       "Index(['ANO', 'MÊS', 'PRODUTO', 'OPERAÇÃO COMERCIAL', 'IMPORTADO',\n",
       "       'DISPÊNDIO'],\n",
       "      dtype='object')"
      ]
     },
     "metadata": {},
     "output_type": "display_data"
    },
    {
     "data": {
      "text/plain": [
       "Index(['ANO', 'MÊS', 'PRODUTO', 'OPERAÇÃO COMERCIAL', 'IMPORTADO',\n",
       "       'DISPÊNDIO'],\n",
       "      dtype='object')"
      ]
     },
     "metadata": {},
     "output_type": "display_data"
    },
    {
     "data": {
      "text/plain": [
       "Index(['ANO', 'MÊS', 'PRODUTO', 'OPERAÇÃO COMERCIAL', 'IMPORTADO',\n",
       "       'DISPÊNDIO'],\n",
       "      dtype='object')"
      ]
     },
     "metadata": {},
     "output_type": "display_data"
    }
   ],
   "source": [
    "df2.rename(columns={'IMPORTADO / EXPORTADO': 'IMPORTADO', 'DISPÊNDIO / RECEITA' : 'DISPÊNDIO'}, inplace=True)\n",
    "df3.rename(columns={'IMPORTADO / EXPORTADO': 'IMPORTADO', 'DISPÊNDIO / RECEITA' : 'DISPÊNDIO'}, inplace=True)\n",
    "display(df1.columns)\n",
    "display(df2.columns)\n",
    "display(df3.columns)"
   ]
  },
  {
   "cell_type": "code",
   "execution_count": null,
   "metadata": {},
   "outputs": [
    {
     "data": {
      "text/html": [
       "<div>\n",
       "<style scoped>\n",
       "    .dataframe tbody tr th:only-of-type {\n",
       "        vertical-align: middle;\n",
       "    }\n",
       "\n",
       "    .dataframe tbody tr th {\n",
       "        vertical-align: top;\n",
       "    }\n",
       "\n",
       "    .dataframe thead th {\n",
       "        text-align: right;\n",
       "    }\n",
       "</style>\n",
       "<table border=\"1\" class=\"dataframe\">\n",
       "  <thead>\n",
       "    <tr style=\"text-align: right;\">\n",
       "      <th></th>\n",
       "      <th>ANO</th>\n",
       "      <th>MÊS</th>\n",
       "      <th>PRODUTO</th>\n",
       "      <th>IMPORTADO</th>\n",
       "      <th>DISPÊNDIO</th>\n",
       "    </tr>\n",
       "  </thead>\n",
       "  <tbody>\n",
       "    <tr>\n",
       "      <th>0</th>\n",
       "      <td>2000</td>\n",
       "      <td>ABR</td>\n",
       "      <td>GNV</td>\n",
       "      <td>131216,79</td>\n",
       "      <td>9577646,746</td>\n",
       "    </tr>\n",
       "    <tr>\n",
       "      <th>1</th>\n",
       "      <td>2000</td>\n",
       "      <td>AGO</td>\n",
       "      <td>GNV</td>\n",
       "      <td>239054,743</td>\n",
       "      <td>19376403,08</td>\n",
       "    </tr>\n",
       "    <tr>\n",
       "      <th>2</th>\n",
       "      <td>2000</td>\n",
       "      <td>DEZ</td>\n",
       "      <td>GNV</td>\n",
       "      <td>252528,739</td>\n",
       "      <td>21660455,62</td>\n",
       "    </tr>\n",
       "    <tr>\n",
       "      <th>3</th>\n",
       "      <td>2000</td>\n",
       "      <td>FEV</td>\n",
       "      <td>GNV</td>\n",
       "      <td>118705,42</td>\n",
       "      <td>9460134,94</td>\n",
       "    </tr>\n",
       "    <tr>\n",
       "      <th>4</th>\n",
       "      <td>2000</td>\n",
       "      <td>JAN</td>\n",
       "      <td>GNV</td>\n",
       "      <td>101942,422</td>\n",
       "      <td>8888167,644</td>\n",
       "    </tr>\n",
       "    <tr>\n",
       "      <th>...</th>\n",
       "      <td>...</td>\n",
       "      <td>...</td>\n",
       "      <td>...</td>\n",
       "      <td>...</td>\n",
       "      <td>...</td>\n",
       "    </tr>\n",
       "    <tr>\n",
       "      <th>479</th>\n",
       "      <td>2021</td>\n",
       "      <td>SET</td>\n",
       "      <td>ETANOL HIDRATADO</td>\n",
       "      <td>3,721</td>\n",
       "      <td>10799</td>\n",
       "    </tr>\n",
       "    <tr>\n",
       "      <th>492</th>\n",
       "      <td>2022</td>\n",
       "      <td>ABR</td>\n",
       "      <td>ETANOL HIDRATADO</td>\n",
       "      <td>0,528</td>\n",
       "      <td>2650</td>\n",
       "    </tr>\n",
       "    <tr>\n",
       "      <th>493</th>\n",
       "      <td>2022</td>\n",
       "      <td>FEV</td>\n",
       "      <td>ETANOL HIDRATADO</td>\n",
       "      <td>0,771</td>\n",
       "      <td>4691</td>\n",
       "    </tr>\n",
       "    <tr>\n",
       "      <th>494</th>\n",
       "      <td>2022</td>\n",
       "      <td>JAN</td>\n",
       "      <td>ETANOL HIDRATADO</td>\n",
       "      <td>266,234</td>\n",
       "      <td>65581</td>\n",
       "    </tr>\n",
       "    <tr>\n",
       "      <th>495</th>\n",
       "      <td>2022</td>\n",
       "      <td>MAR</td>\n",
       "      <td>ETANOL HIDRATADO</td>\n",
       "      <td>2,732</td>\n",
       "      <td>29269</td>\n",
       "    </tr>\n",
       "  </tbody>\n",
       "</table>\n",
       "<p>1194 rows × 5 columns</p>\n",
       "</div>"
      ],
      "text/plain": [
       "      ANO  MÊS           PRODUTO   IMPORTADO    DISPÊNDIO\n",
       "0    2000  ABR               GNV   131216,79  9577646,746\n",
       "1    2000  AGO               GNV  239054,743  19376403,08\n",
       "2    2000  DEZ               GNV  252528,739  21660455,62\n",
       "3    2000  FEV               GNV   118705,42   9460134,94\n",
       "4    2000  JAN               GNV  101942,422  8888167,644\n",
       "..    ...  ...               ...         ...          ...\n",
       "479  2021  SET  ETANOL HIDRATADO       3,721        10799\n",
       "492  2022  ABR  ETANOL HIDRATADO       0,528         2650\n",
       "493  2022  FEV  ETANOL HIDRATADO       0,771         4691\n",
       "494  2022  JAN  ETANOL HIDRATADO     266,234        65581\n",
       "495  2022  MAR  ETANOL HIDRATADO       2,732        29269\n",
       "\n",
       "[1194 rows x 5 columns]"
      ]
     },
     "execution_count": 14,
     "metadata": {},
     "output_type": "execute_result"
    }
   ],
   "source": [
    "df5 = pd.concat([df1, df2, df3])\n",
    "df5"
   ]
  },
  {
   "cell_type": "code",
   "execution_count": null,
   "metadata": {},
   "outputs": [
    {
     "data": {
      "text/html": [
       "<div>\n",
       "<style scoped>\n",
       "    .dataframe tbody tr th:only-of-type {\n",
       "        vertical-align: middle;\n",
       "    }\n",
       "\n",
       "    .dataframe tbody tr th {\n",
       "        vertical-align: top;\n",
       "    }\n",
       "\n",
       "    .dataframe thead th {\n",
       "        text-align: right;\n",
       "    }\n",
       "</style>\n",
       "<table border=\"1\" class=\"dataframe\">\n",
       "  <thead>\n",
       "    <tr style=\"text-align: right;\">\n",
       "      <th></th>\n",
       "      <th>DATA INICIAL</th>\n",
       "      <th>DATA FINAL</th>\n",
       "      <th>REGIÃO</th>\n",
       "      <th>ESTADO</th>\n",
       "      <th>PRODUTO</th>\n",
       "      <th>NÚMERO DE POSTOS PESQUISADOS</th>\n",
       "      <th>UNIDADE DE MEDIDA</th>\n",
       "      <th>PREÇO MÉDIO REVENDA</th>\n",
       "      <th>DESVIO PADRÃO REVENDA</th>\n",
       "      <th>PREÇO MÍNIMO REVENDA</th>\n",
       "      <th>PREÇO MÁXIMO REVENDA</th>\n",
       "      <th>MARGEM MÉDIA REVENDA</th>\n",
       "      <th>COEF DE VARIAÇÃO REVENDA</th>\n",
       "      <th>PREÇO MÉDIO DISTRIBUIÇÃO</th>\n",
       "      <th>DESVIO PADRÃO DISTRIBUIÇÃO</th>\n",
       "      <th>PREÇO MÍNIMO DISTRIBUIÇÃO</th>\n",
       "      <th>PREÇO MÁXIMO DISTRIBUIÇÃO</th>\n",
       "      <th>COEF DE VARIAÇÃO DISTRIBUIÇÃO</th>\n",
       "    </tr>\n",
       "  </thead>\n",
       "  <tbody>\n",
       "    <tr>\n",
       "      <th>0</th>\n",
       "      <td>2004-05-09</td>\n",
       "      <td>2004-05-15</td>\n",
       "      <td>CENTRO OESTE</td>\n",
       "      <td>DISTRITO FEDERAL</td>\n",
       "      <td>ETANOL HIDRATADO</td>\n",
       "      <td>127</td>\n",
       "      <td>R$/l</td>\n",
       "      <td>1.288</td>\n",
       "      <td>0.016</td>\n",
       "      <td>1.190</td>\n",
       "      <td>1.350</td>\n",
       "      <td>0.463</td>\n",
       "      <td>0.012</td>\n",
       "      <td>0.825</td>\n",
       "      <td>0.11</td>\n",
       "      <td>0.4201</td>\n",
       "      <td>0.9666</td>\n",
       "      <td>0.133</td>\n",
       "    </tr>\n",
       "    <tr>\n",
       "      <th>1</th>\n",
       "      <td>2004-05-09</td>\n",
       "      <td>2004-05-15</td>\n",
       "      <td>CENTRO OESTE</td>\n",
       "      <td>GOIAS</td>\n",
       "      <td>ETANOL HIDRATADO</td>\n",
       "      <td>387</td>\n",
       "      <td>R$/l</td>\n",
       "      <td>1.162</td>\n",
       "      <td>0.114</td>\n",
       "      <td>0.890</td>\n",
       "      <td>1.449</td>\n",
       "      <td>0.399</td>\n",
       "      <td>0.098</td>\n",
       "      <td>0.763</td>\n",
       "      <td>0.088</td>\n",
       "      <td>0.5013</td>\n",
       "      <td>1.05</td>\n",
       "      <td>0.115</td>\n",
       "    </tr>\n",
       "    <tr>\n",
       "      <th>2</th>\n",
       "      <td>2004-05-09</td>\n",
       "      <td>2004-05-15</td>\n",
       "      <td>CENTRO OESTE</td>\n",
       "      <td>MATO GROSSO</td>\n",
       "      <td>ETANOL HIDRATADO</td>\n",
       "      <td>192</td>\n",
       "      <td>R$/l</td>\n",
       "      <td>1.389</td>\n",
       "      <td>0.097</td>\n",
       "      <td>1.180</td>\n",
       "      <td>1.760</td>\n",
       "      <td>0.419</td>\n",
       "      <td>0.070</td>\n",
       "      <td>0.97</td>\n",
       "      <td>0.095</td>\n",
       "      <td>0.5614</td>\n",
       "      <td>1.161</td>\n",
       "      <td>0.098</td>\n",
       "    </tr>\n",
       "    <tr>\n",
       "      <th>3</th>\n",
       "      <td>2004-05-09</td>\n",
       "      <td>2004-05-15</td>\n",
       "      <td>CENTRO OESTE</td>\n",
       "      <td>MATO GROSSO DO SUL</td>\n",
       "      <td>ETANOL HIDRATADO</td>\n",
       "      <td>162</td>\n",
       "      <td>R$/l</td>\n",
       "      <td>1.262</td>\n",
       "      <td>0.070</td>\n",
       "      <td>1.090</td>\n",
       "      <td>1.509</td>\n",
       "      <td>0.432</td>\n",
       "      <td>0.055</td>\n",
       "      <td>0.83</td>\n",
       "      <td>0.119</td>\n",
       "      <td>0.5991</td>\n",
       "      <td>1.22242</td>\n",
       "      <td>0.143</td>\n",
       "    </tr>\n",
       "    <tr>\n",
       "      <th>4</th>\n",
       "      <td>2004-05-09</td>\n",
       "      <td>2004-05-15</td>\n",
       "      <td>NORDESTE</td>\n",
       "      <td>ALAGOAS</td>\n",
       "      <td>ETANOL HIDRATADO</td>\n",
       "      <td>103</td>\n",
       "      <td>R$/l</td>\n",
       "      <td>1.181</td>\n",
       "      <td>0.078</td>\n",
       "      <td>1.050</td>\n",
       "      <td>1.400</td>\n",
       "      <td>0.24</td>\n",
       "      <td>0.066</td>\n",
       "      <td>0.941</td>\n",
       "      <td>0.077</td>\n",
       "      <td>0.7441</td>\n",
       "      <td>1.0317</td>\n",
       "      <td>0.082</td>\n",
       "    </tr>\n",
       "    <tr>\n",
       "      <th>...</th>\n",
       "      <td>...</td>\n",
       "      <td>...</td>\n",
       "      <td>...</td>\n",
       "      <td>...</td>\n",
       "      <td>...</td>\n",
       "      <td>...</td>\n",
       "      <td>...</td>\n",
       "      <td>...</td>\n",
       "      <td>...</td>\n",
       "      <td>...</td>\n",
       "      <td>...</td>\n",
       "      <td>...</td>\n",
       "      <td>...</td>\n",
       "      <td>...</td>\n",
       "      <td>...</td>\n",
       "      <td>...</td>\n",
       "      <td>...</td>\n",
       "      <td>...</td>\n",
       "    </tr>\n",
       "    <tr>\n",
       "      <th>120818</th>\n",
       "      <td>2021-04-25</td>\n",
       "      <td>2021-05-01</td>\n",
       "      <td>NORTE</td>\n",
       "      <td>RORAIMA</td>\n",
       "      <td>ÓLEO DIESEL S10</td>\n",
       "      <td>12</td>\n",
       "      <td>R$/l</td>\n",
       "      <td>4.582</td>\n",
       "      <td>0.056</td>\n",
       "      <td>4.510</td>\n",
       "      <td>4.690</td>\n",
       "      <td>-99999.0</td>\n",
       "      <td>0.012</td>\n",
       "      <td>-99999.0</td>\n",
       "      <td>-99999.0</td>\n",
       "      <td>-99999.0</td>\n",
       "      <td>-99999.0</td>\n",
       "      <td>-99999.0</td>\n",
       "    </tr>\n",
       "    <tr>\n",
       "      <th>120819</th>\n",
       "      <td>2021-04-25</td>\n",
       "      <td>2021-05-01</td>\n",
       "      <td>SUL</td>\n",
       "      <td>SANTA CATARINA</td>\n",
       "      <td>ÓLEO DIESEL S10</td>\n",
       "      <td>100</td>\n",
       "      <td>R$/l</td>\n",
       "      <td>4.141</td>\n",
       "      <td>0.187</td>\n",
       "      <td>3.838</td>\n",
       "      <td>4.739</td>\n",
       "      <td>-99999.0</td>\n",
       "      <td>0.045</td>\n",
       "      <td>-99999.0</td>\n",
       "      <td>-99999.0</td>\n",
       "      <td>-99999.0</td>\n",
       "      <td>-99999.0</td>\n",
       "      <td>-99999.0</td>\n",
       "    </tr>\n",
       "    <tr>\n",
       "      <th>120820</th>\n",
       "      <td>2021-04-25</td>\n",
       "      <td>2021-05-01</td>\n",
       "      <td>SUDESTE</td>\n",
       "      <td>SAO PAULO</td>\n",
       "      <td>ÓLEO DIESEL S10</td>\n",
       "      <td>886</td>\n",
       "      <td>R$/l</td>\n",
       "      <td>4.246</td>\n",
       "      <td>0.216</td>\n",
       "      <td>3.769</td>\n",
       "      <td>5.199</td>\n",
       "      <td>-99999.0</td>\n",
       "      <td>0.051</td>\n",
       "      <td>-99999.0</td>\n",
       "      <td>-99999.0</td>\n",
       "      <td>-99999.0</td>\n",
       "      <td>-99999.0</td>\n",
       "      <td>-99999.0</td>\n",
       "    </tr>\n",
       "    <tr>\n",
       "      <th>120821</th>\n",
       "      <td>2021-04-25</td>\n",
       "      <td>2021-05-01</td>\n",
       "      <td>NORDESTE</td>\n",
       "      <td>SERGIPE</td>\n",
       "      <td>ÓLEO DIESEL S10</td>\n",
       "      <td>33</td>\n",
       "      <td>R$/l</td>\n",
       "      <td>4.464</td>\n",
       "      <td>0.205</td>\n",
       "      <td>4.190</td>\n",
       "      <td>4.699</td>\n",
       "      <td>-99999.0</td>\n",
       "      <td>0.046</td>\n",
       "      <td>-99999.0</td>\n",
       "      <td>-99999.0</td>\n",
       "      <td>-99999.0</td>\n",
       "      <td>-99999.0</td>\n",
       "      <td>-99999.0</td>\n",
       "    </tr>\n",
       "    <tr>\n",
       "      <th>120822</th>\n",
       "      <td>2021-04-25</td>\n",
       "      <td>2021-05-01</td>\n",
       "      <td>NORTE</td>\n",
       "      <td>TOCANTINS</td>\n",
       "      <td>ÓLEO DIESEL S10</td>\n",
       "      <td>18</td>\n",
       "      <td>R$/l</td>\n",
       "      <td>4.352</td>\n",
       "      <td>0.156</td>\n",
       "      <td>4.199</td>\n",
       "      <td>4.699</td>\n",
       "      <td>-99999.0</td>\n",
       "      <td>0.036</td>\n",
       "      <td>-99999.0</td>\n",
       "      <td>-99999.0</td>\n",
       "      <td>-99999.0</td>\n",
       "      <td>-99999.0</td>\n",
       "      <td>-99999.0</td>\n",
       "    </tr>\n",
       "  </tbody>\n",
       "</table>\n",
       "<p>120823 rows × 18 columns</p>\n",
       "</div>"
      ],
      "text/plain": [
       "       DATA INICIAL  DATA FINAL        REGIÃO              ESTADO  \\\n",
       "0        2004-05-09  2004-05-15  CENTRO OESTE    DISTRITO FEDERAL   \n",
       "1        2004-05-09  2004-05-15  CENTRO OESTE               GOIAS   \n",
       "2        2004-05-09  2004-05-15  CENTRO OESTE         MATO GROSSO   \n",
       "3        2004-05-09  2004-05-15  CENTRO OESTE  MATO GROSSO DO SUL   \n",
       "4        2004-05-09  2004-05-15      NORDESTE             ALAGOAS   \n",
       "...             ...         ...           ...                 ...   \n",
       "120818   2021-04-25  2021-05-01         NORTE             RORAIMA   \n",
       "120819   2021-04-25  2021-05-01           SUL      SANTA CATARINA   \n",
       "120820   2021-04-25  2021-05-01       SUDESTE           SAO PAULO   \n",
       "120821   2021-04-25  2021-05-01      NORDESTE             SERGIPE   \n",
       "120822   2021-04-25  2021-05-01         NORTE           TOCANTINS   \n",
       "\n",
       "                 PRODUTO  NÚMERO DE POSTOS PESQUISADOS UNIDADE DE MEDIDA  \\\n",
       "0       ETANOL HIDRATADO                           127              R$/l   \n",
       "1       ETANOL HIDRATADO                           387              R$/l   \n",
       "2       ETANOL HIDRATADO                           192              R$/l   \n",
       "3       ETANOL HIDRATADO                           162              R$/l   \n",
       "4       ETANOL HIDRATADO                           103              R$/l   \n",
       "...                  ...                           ...               ...   \n",
       "120818   ÓLEO DIESEL S10                            12              R$/l   \n",
       "120819   ÓLEO DIESEL S10                           100              R$/l   \n",
       "120820   ÓLEO DIESEL S10                           886              R$/l   \n",
       "120821   ÓLEO DIESEL S10                            33              R$/l   \n",
       "120822   ÓLEO DIESEL S10                            18              R$/l   \n",
       "\n",
       "        PREÇO MÉDIO REVENDA  DESVIO PADRÃO REVENDA  PREÇO MÍNIMO REVENDA  \\\n",
       "0                     1.288                  0.016                 1.190   \n",
       "1                     1.162                  0.114                 0.890   \n",
       "2                     1.389                  0.097                 1.180   \n",
       "3                     1.262                  0.070                 1.090   \n",
       "4                     1.181                  0.078                 1.050   \n",
       "...                     ...                    ...                   ...   \n",
       "120818                4.582                  0.056                 4.510   \n",
       "120819                4.141                  0.187                 3.838   \n",
       "120820                4.246                  0.216                 3.769   \n",
       "120821                4.464                  0.205                 4.190   \n",
       "120822                4.352                  0.156                 4.199   \n",
       "\n",
       "        PREÇO MÁXIMO REVENDA MARGEM MÉDIA REVENDA  COEF DE VARIAÇÃO REVENDA  \\\n",
       "0                      1.350                0.463                     0.012   \n",
       "1                      1.449                0.399                     0.098   \n",
       "2                      1.760                0.419                     0.070   \n",
       "3                      1.509                0.432                     0.055   \n",
       "4                      1.400                 0.24                     0.066   \n",
       "...                      ...                  ...                       ...   \n",
       "120818                 4.690             -99999.0                     0.012   \n",
       "120819                 4.739             -99999.0                     0.045   \n",
       "120820                 5.199             -99999.0                     0.051   \n",
       "120821                 4.699             -99999.0                     0.046   \n",
       "120822                 4.699             -99999.0                     0.036   \n",
       "\n",
       "       PREÇO MÉDIO DISTRIBUIÇÃO DESVIO PADRÃO DISTRIBUIÇÃO  \\\n",
       "0                         0.825                       0.11   \n",
       "1                         0.763                      0.088   \n",
       "2                          0.97                      0.095   \n",
       "3                          0.83                      0.119   \n",
       "4                         0.941                      0.077   \n",
       "...                         ...                        ...   \n",
       "120818                 -99999.0                   -99999.0   \n",
       "120819                 -99999.0                   -99999.0   \n",
       "120820                 -99999.0                   -99999.0   \n",
       "120821                 -99999.0                   -99999.0   \n",
       "120822                 -99999.0                   -99999.0   \n",
       "\n",
       "       PREÇO MÍNIMO DISTRIBUIÇÃO PREÇO MÁXIMO DISTRIBUIÇÃO  \\\n",
       "0                         0.4201                    0.9666   \n",
       "1                         0.5013                      1.05   \n",
       "2                         0.5614                     1.161   \n",
       "3                         0.5991                   1.22242   \n",
       "4                         0.7441                    1.0317   \n",
       "...                          ...                       ...   \n",
       "120818                  -99999.0                  -99999.0   \n",
       "120819                  -99999.0                  -99999.0   \n",
       "120820                  -99999.0                  -99999.0   \n",
       "120821                  -99999.0                  -99999.0   \n",
       "120822                  -99999.0                  -99999.0   \n",
       "\n",
       "       COEF DE VARIAÇÃO DISTRIBUIÇÃO  \n",
       "0                              0.133  \n",
       "1                              0.115  \n",
       "2                              0.098  \n",
       "3                              0.143  \n",
       "4                              0.082  \n",
       "...                              ...  \n",
       "120818                      -99999.0  \n",
       "120819                      -99999.0  \n",
       "120820                      -99999.0  \n",
       "120821                      -99999.0  \n",
       "120822                      -99999.0  \n",
       "\n",
       "[120823 rows x 18 columns]"
      ]
     },
     "execution_count": 16,
     "metadata": {},
     "output_type": "execute_result"
    }
   ],
   "source": [
    "df4"
   ]
  },
  {
   "cell_type": "code",
   "execution_count": null,
   "metadata": {},
   "outputs": [
    {
     "data": {
      "text/plain": [
       "array(['R$/l', 'R$/13Kg', 'R$/m3'], dtype=object)"
      ]
     },
     "execution_count": 18,
     "metadata": {},
     "output_type": "execute_result"
    }
   ],
   "source": [
    "df4['UNIDADE DE MEDIDA'].unique()"
   ]
  },
  {
   "cell_type": "code",
   "execution_count": null,
   "metadata": {},
   "outputs": [
    {
     "data": {
      "text/plain": [
       "array(['GLP'], dtype=object)"
      ]
     },
     "execution_count": 23,
     "metadata": {},
     "output_type": "execute_result"
    }
   ],
   "source": [
    "df4[df4['UNIDADE DE MEDIDA'] == 'R$/13Kg']['PRODUTO'].unique()"
   ]
  }
 ],
 "metadata": {
  "kernelspec": {
   "display_name": "Python 3.10.5 64-bit",
   "language": "python",
   "name": "python3"
  },
  "language_info": {
   "codemirror_mode": {
    "name": "ipython",
    "version": 3
   },
   "file_extension": ".py",
   "mimetype": "text/x-python",
   "name": "python",
   "nbconvert_exporter": "python",
   "pygments_lexer": "ipython3",
   "version": "3.10.5"
  },
  "orig_nbformat": 4,
  "vscode": {
   "interpreter": {
    "hash": "e7370f93d1d0cde622a1f8e1c04877d8463912d04d973331ad4851f04de6915a"
   }
  }
 },
 "nbformat": 4,
 "nbformat_minor": 2
}
